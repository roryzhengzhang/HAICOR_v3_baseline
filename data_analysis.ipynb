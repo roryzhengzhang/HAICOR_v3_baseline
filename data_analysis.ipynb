{
  "nbformat": 4,
  "nbformat_minor": 0,
  "metadata": {
    "colab": {
      "name": "data_analysis.ipynb",
      "provenance": [],
      "collapsed_sections": [],
      "mount_file_id": "1H8cXzZra6JeMaKRDx6Qs4W1Olf4z75SI",
      "authorship_tag": "ABX9TyPlhuQXUohDNGQ5S4xRbfw7",
      "include_colab_link": true
    },
    "kernelspec": {
      "name": "python3",
      "display_name": "Python 3"
    }
  },
  "cells": [
    {
      "cell_type": "markdown",
      "metadata": {
        "id": "view-in-github",
        "colab_type": "text"
      },
      "source": [
        "<a href=\"https://colab.research.google.com/github/roryzhengzhang/HAICOR_v3_baseline/blob/master/data_analysis.ipynb\" target=\"_parent\"><img src=\"https://colab.research.google.com/assets/colab-badge.svg\" alt=\"Open In Colab\"/></a>"
      ]
    },
    {
      "cell_type": "code",
      "metadata": {
        "id": "K2LB8SM4Fg0a"
      },
      "source": [
        "import pandas as pd\n",
        "import numpy as np\n",
        "import matplotlib.pyplot as plt\n",
        "import seaborn as sns"
      ],
      "execution_count": 52,
      "outputs": []
    },
    {
      "cell_type": "code",
      "metadata": {
        "id": "qGfry48PGaZz",
        "outputId": "d06309b8-40cc-4b84-910a-a3074d50cc9d",
        "colab": {
          "base_uri": "https://localhost:8080/",
          "height": 70
        }
      },
      "source": [
        "df = pd.read_csv( \"log_data.csv\", header = 0, index_col=\"id\")\n",
        "pd.set_option('display.max_colwidth', -1)\n",
        "pd.set_option('max_colwidth', 400)\n",
        "df = df.drop(\"op sequence\", 1)"
      ],
      "execution_count": 53,
      "outputs": [
        {
          "output_type": "stream",
          "text": [
            "/usr/local/lib/python3.6/dist-packages/ipykernel_launcher.py:2: FutureWarning: Passing a negative integer is deprecated in version 1.0 and will not be supported in future version. Instead, use None to not limit the column width.\n",
            "  \n"
          ],
          "name": "stderr"
        }
      ]
    },
    {
      "cell_type": "markdown",
      "metadata": {
        "id": "C9oAqeQBw4fD"
      },
      "source": [
        "## Path modification log table"
      ]
    },
    {
      "cell_type": "code",
      "metadata": {
        "id": "-6b07wAeiMtn",
        "outputId": "92e93bef-c565-4ff8-8de1-76e89b943879",
        "colab": {
          "base_uri": "https://localhost:8080/",
          "height": 1000
        }
      },
      "source": [
        "df"
      ],
      "execution_count": 54,
      "outputs": [
        {
          "output_type": "execute_result",
          "data": {
            "text/html": [
              "<div>\n",
              "<style scoped>\n",
              "    .dataframe tbody tr th:only-of-type {\n",
              "        vertical-align: middle;\n",
              "    }\n",
              "\n",
              "    .dataframe tbody tr th {\n",
              "        vertical-align: top;\n",
              "    }\n",
              "\n",
              "    .dataframe thead th {\n",
              "        text-align: right;\n",
              "    }\n",
              "</style>\n",
              "<table border=\"1\" class=\"dataframe\">\n",
              "  <thead>\n",
              "    <tr style=\"text-align: right;\">\n",
              "      <th></th>\n",
              "      <th>original path</th>\n",
              "      <th>resulting path</th>\n",
              "      <th>duration</th>\n",
              "      <th>create from scratch</th>\n",
              "      <th>operation sequence</th>\n",
              "    </tr>\n",
              "    <tr>\n",
              "      <th>id</th>\n",
              "      <th></th>\n",
              "      <th></th>\n",
              "      <th></th>\n",
              "      <th></th>\n",
              "      <th></th>\n",
              "    </tr>\n",
              "  </thead>\n",
              "  <tbody>\n",
              "    <tr>\n",
              "      <th>36a52f1a-8413-4a63-a2d9-855583f73f04</th>\n",
              "      <td>leftover related to remaining synonym rest</td>\n",
              "      <td>leftover related to remaining synonym Belonging;</td>\n",
              "      <td>1:20</td>\n",
              "      <td>False</td>\n",
              "      <td>modify node: rest to Belonging</td>\n",
              "    </tr>\n",
              "    <tr>\n",
              "      <th>98747b8a-a142-4792-b734-319f993b4be6</th>\n",
              "      <td>leftover is a remainder related to possession related to belonging</td>\n",
              "      <td>friends hasPrerequisite acceptance entails belonging</td>\n",
              "      <td>4:32</td>\n",
              "      <td>True</td>\n",
              "      <td>delete node: remainder; delete node: leftover; delete node: possession; new node creation: friends; new node creation: acceptance; new node creation: belonging; new link creation: acceptance related to entails; new link creation: acceptance entails belonging; modify link: acceptance entails belonging; new link creation: friends hasPrerequisite acceptance; modify link: friends hasPrerequisite a...</td>\n",
              "    </tr>\n",
              "    <tr>\n",
              "      <th>49966290-7848-4d8d-8617-fc7d6b57983e</th>\n",
              "      <td>pretend motivated by goal playing used for competing causes competition</td>\n",
              "      <td>pretend motivated by goal mask the truth;</td>\n",
              "      <td>1:34</td>\n",
              "      <td>False</td>\n",
              "      <td>delete node: pretend; delete node: competing; delete node: competition; modify node: playing to mask the truth</td>\n",
              "    </tr>\n",
              "    <tr>\n",
              "      <th>60054ea6-0ad9-42d1-9cd0-885a6a86a34e</th>\n",
              "      <td>leftover related to remaining synonym rest</td>\n",
              "      <td>Friendship related to Belonging; Friendship related to Approval;</td>\n",
              "      <td>8:10</td>\n",
              "      <td>True</td>\n",
              "      <td>new node creation: Friendship; new node creation: Excluding; new node creation: Belonging; new link creation: Friendship related to Belonging; new node creation: Approval; new link creation: Friendship related to Belonging; new link creation: Friendship related to Approval; delete link: Friendship to related to Belonging;</td>\n",
              "    </tr>\n",
              "    <tr>\n",
              "      <th>dcf832b0-2e7b-4a8b-b52e-e5cd112b3ca3</th>\n",
              "      <td>leftover is a remainder related to possession related to belonging</td>\n",
              "      <td>leftover is a remainder related to possession related to belonging;</td>\n",
              "      <td>0:10</td>\n",
              "      <td>False</td>\n",
              "      <td>NaN</td>\n",
              "    </tr>\n",
              "    <tr>\n",
              "      <th>3efd677f-b67a-481d-9a94-a41b5d57e426</th>\n",
              "      <td>pretend motivated by goal playing used for competing causes competition</td>\n",
              "      <td>pretended related to ignore motivated by goal approval;</td>\n",
              "      <td>10:47</td>\n",
              "      <td>True</td>\n",
              "      <td>new node creation: grateful; delete node: grateful; new node creation: pretended; new node creation: approval; new node creation: acceptance; new link creation: acceptance related to pretended; delete link: acceptance to related to pretended; new link creation: acceptance related to pretended; modify link: acceptance related to pretended; new node creation: fake; delete node: acceptance; delet...</td>\n",
              "    </tr>\n",
              "    <tr>\n",
              "      <th>f0ed3e0b-d2dc-4659-978a-f34549bbbdb6</th>\n",
              "      <td>pretend motivated by goal playing used for competing causes competition</td>\n",
              "      <td>pretend motivated by goal make someone happy; make someone happy used for maintain friendship; maintain friendship causes social needs;</td>\n",
              "      <td>1:10</td>\n",
              "      <td>False</td>\n",
              "      <td>modify node: playing to make someone happymodify node: competing to maintain friendshipmodify node: competition to social needs</td>\n",
              "    </tr>\n",
              "    <tr>\n",
              "      <th>a9638a74-e739-481a-bcd0-aae445f49182</th>\n",
              "      <td>leftover related to remaining synonym rest</td>\n",
              "      <td>leftover related to remaining; remaining synonym rest;</td>\n",
              "      <td>0:02</td>\n",
              "      <td>False</td>\n",
              "      <td>NaN</td>\n",
              "    </tr>\n",
              "    <tr>\n",
              "      <th>67e6b483-1aae-4ba5-b251-aa5ee1481fad</th>\n",
              "      <td>pretend motivated by goal actor is a person desires independent</td>\n",
              "      <td>pretend related to actor; conceal  motivated to actor;</td>\n",
              "      <td>4:27</td>\n",
              "      <td>False</td>\n",
              "      <td>delete node: independent; new node creation: Conceal ; delete link: actor to is a person; delete node: person; new link creation: actor related to Conceal; new link creation: Conceal  related to person; new link creation: actor related to Concea;; new link creation: Conceal  related to actor; modify link: Conceal  related to actor; modify link: pretend related to actor; modify link: pretend re...</td>\n",
              "    </tr>\n",
              "    <tr>\n",
              "      <th>52c5809f-7e71-4e6a-86f7-0e2181eebc2b</th>\n",
              "      <td>leftover related to remaining synonym rest</td>\n",
              "      <td>May made a friendship bracelet is a Friendship bracelet is a nice thing; Friendship bracelet is a nice thing cause Gina pretend to be grateful; Grateful cause Gina pretend to be grateful; it's expected to thank people who did nice things to you related to Grateful;</td>\n",
              "      <td>14:54</td>\n",
              "      <td>True</td>\n",
              "      <td>new node creation: May made a friendship bracelet; new node creation: it's expected to thank people who did nice thing to you; new node creation: Gina pretend to be grateful; new link creation: May made a friendship bracelet related to it's expected to thank people who did nice thing to you; new link creation: it's expected to thank people who did nice things to you causes Gina pretend to be g...</td>\n",
              "    </tr>\n",
              "    <tr>\n",
              "      <th>143db38a-9d2d-44ed-a1d1-ab7d5bff608a</th>\n",
              "      <td>leftover is a remainder related to possession related to belonging</td>\n",
              "      <td>friendship related to belonging;</td>\n",
              "      <td>5:54</td>\n",
              "      <td>True</td>\n",
              "      <td>new node creation: being nice; new link creation: being nice related to being nice; delete link: being nice to related to being nice; modify node: being nice to approvalnew node creation: belonging; new node creation: friendship; new link creation: friendship related to belonging;</td>\n",
              "    </tr>\n",
              "    <tr>\n",
              "      <th>73c4b678-7da0-460e-a101-69fc63c5bf16</th>\n",
              "      <td>pretend motivated by goal actor is a person desires independent</td>\n",
              "      <td>pretend motivated by goal belonging; belonging has prerequisite  approval;</td>\n",
              "      <td>1:33</td>\n",
              "      <td>False</td>\n",
              "      <td>modify node: actor to belongingmodify link: belonging has prerequisite  approval; modify node: person to approvaldelete node: independent;</td>\n",
              "    </tr>\n",
              "    <tr>\n",
              "      <th>fd350ea2-0a96-420c-a534-1ccdb389f472</th>\n",
              "      <td>leftover related to remaining synonym rest</td>\n",
              "      <td>leftover related to remaining; remaining synonym waste;</td>\n",
              "      <td>0:41</td>\n",
              "      <td>False</td>\n",
              "      <td>modify node: rest to waste</td>\n",
              "    </tr>\n",
              "    <tr>\n",
              "      <th>8f7f7e60-e3a1-46f8-beb1-2742d1d332e5</th>\n",
              "      <td>leftover related to remaining synonym rest</td>\n",
              "      <td>leftover related to remaining; remaining synonym belonging;</td>\n",
              "      <td>1:03</td>\n",
              "      <td>False</td>\n",
              "      <td>modify node: rest to belonging</td>\n",
              "    </tr>\n",
              "    <tr>\n",
              "      <th>7f782e16-ce6e-4455-a19f-a67237eca938</th>\n",
              "      <td>leftover related to remaining synonym rest</td>\n",
              "      <td>NaN</td>\n",
              "      <td>13:33</td>\n",
              "      <td>True</td>\n",
              "      <td>new node creation: Hello;</td>\n",
              "    </tr>\n",
              "    <tr>\n",
              "      <th>78d9434d-b886-4d48-8f86-dc3f935e1ab6</th>\n",
              "      <td>leftover related to remaining synonym rest</td>\n",
              "      <td>leftover related to remaining; remaining synonym rest;</td>\n",
              "      <td>0:13</td>\n",
              "      <td>False</td>\n",
              "      <td>NaN</td>\n",
              "    </tr>\n",
              "  </tbody>\n",
              "</table>\n",
              "</div>"
            ],
            "text/plain": [
              "                                                                                                original path  ...                                                                                                                                                                                                                                                                                                                                                                                               operation sequence\n",
              "id                                                                                                             ...                                                                                                                                                                                                                                                                                                                                                                                                                 \n",
              "36a52f1a-8413-4a63-a2d9-855583f73f04                               leftover related to remaining synonym rest  ...                                                                                                                                                                                                                                                                                                                                                                                   modify node: rest to Belonging\n",
              "98747b8a-a142-4792-b734-319f993b4be6       leftover is a remainder related to possession related to belonging  ...  delete node: remainder; delete node: leftover; delete node: possession; new node creation: friends; new node creation: acceptance; new node creation: belonging; new link creation: acceptance related to entails; new link creation: acceptance entails belonging; modify link: acceptance entails belonging; new link creation: friends hasPrerequisite acceptance; modify link: friends hasPrerequisite a...\n",
              "49966290-7848-4d8d-8617-fc7d6b57983e  pretend motivated by goal playing used for competing causes competition  ...                                                                                                                                                                                                                                                                                                   delete node: pretend; delete node: competing; delete node: competition; modify node: playing to mask the truth\n",
              "60054ea6-0ad9-42d1-9cd0-885a6a86a34e                               leftover related to remaining synonym rest  ...                                                                             new node creation: Friendship; new node creation: Excluding; new node creation: Belonging; new link creation: Friendship related to Belonging; new node creation: Approval; new link creation: Friendship related to Belonging; new link creation: Friendship related to Approval; delete link: Friendship to related to Belonging; \n",
              "dcf832b0-2e7b-4a8b-b52e-e5cd112b3ca3       leftover is a remainder related to possession related to belonging  ...                                                                                                                                                                                                                                                                                                                                                                                                              NaN\n",
              "3efd677f-b67a-481d-9a94-a41b5d57e426  pretend motivated by goal playing used for competing causes competition  ...  new node creation: grateful; delete node: grateful; new node creation: pretended; new node creation: approval; new node creation: acceptance; new link creation: acceptance related to pretended; delete link: acceptance to related to pretended; new link creation: acceptance related to pretended; modify link: acceptance related to pretended; new node creation: fake; delete node: acceptance; delet...\n",
              "f0ed3e0b-d2dc-4659-978a-f34549bbbdb6  pretend motivated by goal playing used for competing causes competition  ...                                                                                                                                                                                                                                                                                  modify node: playing to make someone happymodify node: competing to maintain friendshipmodify node: competition to social needs\n",
              "a9638a74-e739-481a-bcd0-aae445f49182                               leftover related to remaining synonym rest  ...                                                                                                                                                                                                                                                                                                                                                                                                              NaN\n",
              "67e6b483-1aae-4ba5-b251-aa5ee1481fad          pretend motivated by goal actor is a person desires independent  ...  delete node: independent; new node creation: Conceal ; delete link: actor to is a person; delete node: person; new link creation: actor related to Conceal; new link creation: Conceal  related to person; new link creation: actor related to Concea;; new link creation: Conceal  related to actor; modify link: Conceal  related to actor; modify link: pretend related to actor; modify link: pretend re...\n",
              "52c5809f-7e71-4e6a-86f7-0e2181eebc2b                               leftover related to remaining synonym rest  ...  new node creation: May made a friendship bracelet; new node creation: it's expected to thank people who did nice thing to you; new node creation: Gina pretend to be grateful; new link creation: May made a friendship bracelet related to it's expected to thank people who did nice thing to you; new link creation: it's expected to thank people who did nice things to you causes Gina pretend to be g...\n",
              "143db38a-9d2d-44ed-a1d1-ab7d5bff608a       leftover is a remainder related to possession related to belonging  ...                                                                                                                       new node creation: being nice; new link creation: being nice related to being nice; delete link: being nice to related to being nice; modify node: being nice to approvalnew node creation: belonging; new node creation: friendship; new link creation: friendship related to belonging; \n",
              "73c4b678-7da0-460e-a101-69fc63c5bf16          pretend motivated by goal actor is a person desires independent  ...                                                                                                                                                                                                                                                                      modify node: actor to belongingmodify link: belonging has prerequisite  approval; modify node: person to approvaldelete node: independent; \n",
              "fd350ea2-0a96-420c-a534-1ccdb389f472                               leftover related to remaining synonym rest  ...                                                                                                                                                                                                                                                                                                                                                                                       modify node: rest to waste\n",
              "8f7f7e60-e3a1-46f8-beb1-2742d1d332e5                               leftover related to remaining synonym rest  ...                                                                                                                                                                                                                                                                                                                                                                                   modify node: rest to belonging\n",
              "7f782e16-ce6e-4455-a19f-a67237eca938                               leftover related to remaining synonym rest  ...                                                                                                                                                                                                                                                                                                                                                                                       new node creation: Hello; \n",
              "78d9434d-b886-4d48-8f86-dc3f935e1ab6                               leftover related to remaining synonym rest  ...                                                                                                                                                                                                                                                                                                                                                                                                              NaN\n",
              "\n",
              "[16 rows x 5 columns]"
            ]
          },
          "metadata": {
            "tags": []
          },
          "execution_count": 54
        }
      ]
    },
    {
      "cell_type": "markdown",
      "metadata": {
        "id": "_yEsEa3gmOwv"
      },
      "source": [
        "## Path quality evaluation\n",
        "\n",
        "In this section, we evaluate path quality from two perspectives:\n",
        "\n",
        "1. Rationality of the argument that path stands for\n",
        "2. Internal semantic coherence of path\n",
        "\n",
        "### Rationality\n",
        "We assess three rationality metrics of path (*acceptability, relevance, sufficiency*) based on Blair's theory of argument rationality, where we treat path as the premise that supports the human needs that the path arrives at. For each metric, evaluators need to answer the following 5-Likert scale questions:\n",
        "- **Acceptability**: \n",
        " - A1: How acceptable is a path (premise) to you? In other words, how plausible is a path to you?\n",
        "- **Relevance**: \n",
        "  - R1: How much is a path worthy of being taken as evidence to the conclusion (predicted human needs)? \n",
        "  - R2: How likely do you take this path as evidential support to the conclusion?\n",
        "- **Sufficiency** \n",
        "  - S1: How sufficient is a path to support the conclusion? \n",
        "  - S2: How close is a path to the reasoning that you imagine most people will make to answer the same story question?\n",
        "\n",
        "### Semantic coherence\n",
        "For internal semantic coherence, we consider how many concepts maintain a consistent sense along the path. It is because that the implicit change of word sense will impair the reasonableness of the path.\n",
        "\n",
        "We define the semantic coherence of a path as:\n",
        "$$\n",
        "  \\frac{\\sum{w_{i}}}{\\text{number of intermediate concepts}}\n",
        "$$\n",
        "Where $w_{i} \\in \\{0, 1\\}$ represents whether or not concept $i$ maintains a consistent word sense along the path (except the beginning and ending words). \n",
        "\n",
        "## Quality evaluation table\n",
        "| ID | original path | A1 | R1 | R2 | S1 | S2 | SC | modified path | A1 | R1 | R2 | S1 | S2 | SC |\n",
        "| --- | --- |  --- | --- | --- | --- | --- | --- | --- | --- | --- | --- | --- | --- | --- |\n",
        "| 1 | leftover related to remaining synonym rest |  1 | 1 | 1 | 1 | 1 | 0.0 | leftover related to remaining synonym Belonging | 1 | 1 | 1 | 1 | 1 | 0.0 |\n",
        "| 2 | leftover is a remainder related to possession related to belonging\t |  1 | 1 | 1 | 1 | 1 | 0.5 | friends hasPrerequisite acceptance entails belonging | 2 | 2 | 2 | 1 | 1 | 1 |\n",
        "| 3 | pretend motivated by goal playing used for competing causes competition\t\t |  1 | 1 | 1 | 1 | 1 | 0.5 | pretend motivated by goal mask the truth (didn't end up with a human needs) | 3 | 1 | 2 | 2 | 1 | 1 |\n",
        "| 4 | leftover related to remaining synonym rest |  1 | 1 | 1 | 1 | 1 | 0.0 | Friendship related to Belonging; Friendship related to Approval;\t|2 | 2 | 2 | 2 | 2 | 1 |\n",
        "| 5 | pretend motivated by goal playing used for competing causes competition\t |  1 | 1 | 1 | 1 | 1 | 0.5 | pretended related to ignore motivated by goal approval;\t | 3 | 2 | 2 | 2 | 2 | 1 |\n",
        "| 6 | pretend motivated by goal playing used for competing causes competition\t |  1 | 1 | 1 | 1 | 1 | 0.5 | pretend motivated by goal make someone happy used for maintain friendship causes social needs; | 3 | 4 | 4 | 4 | 4 | 1 |\n",
        "| 7 | leftover related to remaining synonym rest\t |  1 | 1 | 1 | 1 | 1 | 0.0 | May made a friendship bracelet is a Friendship bracelet is a nice thing; Friendship bracelet is a nice thing cause Gina pretend to be grateful; Grateful cause Gina pretend to be grateful; it's expected to thank people who did nice things to you related to Grateful;\t | 4 | 4 | 5 | 4 | 4 | 1 |\n",
        "| 8 | leftover is a remainder related to possession related to belonging\t |  1 | 1 | 1 | 1 | 1 | 0.5 | friendship related to belonging;\t | 2 | 1 | 2 | 2 | 2 | 1 |\n",
        "| 9 | leftover is a remainder related to possession related to belonging\t |  1 | 1 | 1 | 1 | 1 | 0.5 | friendship related to belonging;\t | 2 | 1 | 2 | 2 | 2 | 1 |\n",
        "| 10 | leftover related to remaining synonym rest |  1 | 1 | 1 | 1 | 1 | 0.5 | leftover related to remaining synonym waste | 1 | 1 | 1 | 1 | 1 | 1 |\n",
        "| 11 | leftover related to remaining synonym rest |  1 | 1 | 1 | 1 | 1 | 0.5 | leftover related to remaining synonym belonging; | 1 | 1 | 1 | 1 | 1 | 0.0 |\n"
      ]
    },
    {
      "cell_type": "markdown",
      "metadata": {
        "id": "6gNW01Y4g5jl"
      },
      "source": [
        "## Statistical test of path quality"
      ]
    },
    {
      "cell_type": "code",
      "metadata": {
        "id": "AXBThKNtg2FK",
        "outputId": "37e0d80c-74a7-41c1-889e-70a3e18d7c5b",
        "colab": {
          "base_uri": "https://localhost:8080/",
          "height": 134
        }
      },
      "source": [
        "import scipy.stats as stats\n",
        "\n",
        "data_original = {'A1': [1, 1, 1, 1, 1, 1, 1, 1, 1, 1, 1], \n",
        "                 'R1':  [1, 1, 1, 1, 1, 1, 1, 1, 1, 1, 1], \n",
        "                 'R2':  [1, 1, 1, 1, 1, 1, 1, 1, 1, 1, 1],\n",
        "                 'S1':  [1, 1, 1, 1, 1, 1, 1, 1, 1, 1, 1],\n",
        "                 'S2':  [1, 1, 1, 1, 1, 1, 1, 1, 1, 1, 1],\n",
        "                 'SC': [0, 0.5, 0.5, 0, 0.5, 0.5, 0, 0.5, 0.5, 0.5, 0.5]}\n",
        "\n",
        "data_modified = {'A1': [1, 2, 3, 2, 3, 3, 4, 2, 2, 1, 1], \n",
        "                 'R1':  [1, 2, 1, 2, 2, 4, 4, 1, 1, 1, 1], \n",
        "                 'R2':  [1, 2, 2, 2, 2, 4, 5, 2, 2, 1, 1],\n",
        "                 'S1':  [1, 1, 2, 2, 2, 4, 4, 2, 2, 1, 1],\n",
        "                 'S2':  [1, 1, 1, 2, 2, 4, 4, 2, 2, 1, 1],\n",
        "                 'SC': [0, 1, 1, 1, 1, 1, 1, 1, 1, 1, 0]}\n",
        "\n",
        "df_op = pd.DataFrame(data=data_original)\n",
        "df_mp = pd.DataFrame(data=data_modified)\n",
        "\n",
        "print(\"Paired sample t test: \")\n",
        "#paired t test\n",
        "A1_test = stats.ttest_rel(df_op['A1'], df_mp['A1'])\n",
        "print(f\"Acceptability Q1: t value: {A1_test[0]}, p value: {A1_test[1]}\")\n",
        "\n",
        "R1_test = stats.ttest_rel(df_op['R1'], df_mp['R1'])\n",
        "print(f\"Relevance Q1: t value: {R1_test[0]}, p value: {R1_test[1]}\")\n",
        "\n",
        "R2_test = stats.ttest_rel(df_op['R2'], df_mp['R2'])\n",
        "print(f\"Relevance Q2: t value: {R2_test[0]}, p value: {R2_test[1]}\")\n",
        "\n",
        "S1_test = stats.ttest_rel(df_op['S1'], df_mp['S1'])\n",
        "print(f\"Sufficiency Q1: t value: {S1_test[0]}, p value: {S1_test[1]}\")\n",
        "\n",
        "S2_test = stats.ttest_rel(df_op['S2'], df_mp['S2'])\n",
        "print(f\"Sufficiency Q2: t value: {S2_test[0]}, p value: {S2_test[1]}\")\n",
        "\n",
        "SC_test = stats.ttest_rel(df_op['SC'], df_mp['SC'])\n",
        "print(f\"Semantic coherence: t value: {SC_test[0]}, p value: {SC_test[1]}\")"
      ],
      "execution_count": 45,
      "outputs": [
        {
          "output_type": "stream",
          "text": [
            "Paired sample t test: \n",
            "Acceptability Q1: t value: -3.9929182594206827, p value: 0.0025472722254991334\n",
            "Relevance Q1: t value: -2.3237900077244507, p value: 0.04249750171368149\n",
            "Relevance Q2: t value: -3.1345783441076787, p value: 0.010607546331476012\n",
            "Sufficiency Q1: t value: -3.0276503540974917, p value: 0.01272809802076543\n",
            "Sufficiency Q2: t value: -2.6537244621713763, p value: 0.024158120327844316\n",
            "Semantic coherence: t value: -3.6273812505500582, p value: 0.004632630835317806\n"
          ],
          "name": "stdout"
        }
      ]
    },
    {
      "cell_type": "markdown",
      "metadata": {
        "id": "j4_mUc4Puiup"
      },
      "source": [
        "### Conclusion\n",
        "\n",
        "It is hard to perform effective evaluation for original paths, since almost all of them are nearly non-sensical. For human-modified paths, some of them still sounds irrational or irrelevant to context (e.g. 1, 10, 11). Besides, some users performed a lazy modification such as directly linking keyword to one of human needs or merely change the ending concept (e.g. 1, 8, 9 ,10, 11). In addition, a few users failed to conclude with a human need in their modified path (e.g. 3, 7, 10).\n",
        "\n",
        "Two users managed to modify the paths into a rational-sounding one (e.g. 6, 7), although they didn't strictly follow the format requirement (where a node has to be a concept), it implies that traditional relation path may restrict user from producing the reasoning that they are meant to express.\n",
        "\n",
        "### statistical analysis\n",
        "Based on my subjective evaluation, paired $t$ test found that human-modiifed paths are better than original paths across every metrics (each metric has negative t value and p-value < 0.05)"
      ]
    },
    {
      "cell_type": "markdown",
      "metadata": {
        "id": "SH5V8c2gxEOV"
      },
      "source": [
        "## How many people choose to create path from scratch? "
      ]
    },
    {
      "cell_type": "code",
      "metadata": {
        "id": "YVKZua8xGqHO",
        "outputId": "aaedccd5-ad1b-4f88-cde2-08f5b89f5cb6",
        "colab": {
          "base_uri": "https://localhost:8080/",
          "height": 289
        }
      },
      "source": [
        "df_group = df.groupby(\"create from scratch\").size().reset_index(name=\"count\")\n",
        "df_group\n",
        "\n",
        "f, ax = plt.subplots(1, 1)\n",
        "ax = sns.barplot(ax=ax, x=\"create from scratch\", y=\"count\", data=df_group)\n",
        "\n",
        "for p in ax.patches:\n",
        "  #p.get_height == count\n",
        "  #xytext is the relative corr to the corrdinate of anonotation\n",
        "    ax.annotate(\"%d\" % p.get_height(), (p.get_x() + p.get_width() / 2., p.get_height()),\n",
        "        ha='center', va='center', fontsize=11, color='gray', xytext=(0, 15),\n",
        "        textcoords='offset points')"
      ],
      "execution_count": 46,
      "outputs": [
        {
          "output_type": "display_data",
          "data": {
            "image/png": "[encoded data removed]",
            "text/plain": [
              "<Figure size 432x288 with 1 Axes>"
            ]
          },
          "metadata": {
            "tags": [],
            "needs_background": "light"
          }
        }
      ]
    },
    {
      "cell_type": "markdown",
      "metadata": {
        "id": "49oJ5qx7y1hM"
      },
      "source": [
        "## Summary of survey data"
      ]
    },
    {
      "cell_type": "code",
      "metadata": {
        "id": "562KcbUefpKW",
        "outputId": "81eaaa5a-0f59-43b1-e144-9ac8379f0d71",
        "colab": {
          "base_uri": "https://localhost:8080/",
          "height": 1000
        }
      },
      "source": [
        "df_survey = pd.read_csv(\"survey.csv\", header=0, index_col=0)\n",
        "df_survey"
      ],
      "execution_count": 47,
      "outputs": [
        {
          "output_type": "execute_result",
          "data": {
            "text/html": [
              "<div>\n",
              "<style scoped>\n",
              "    .dataframe tbody tr th:only-of-type {\n",
              "        vertical-align: middle;\n",
              "    }\n",
              "\n",
              "    .dataframe tbody tr th {\n",
              "        vertical-align: top;\n",
              "    }\n",
              "\n",
              "    .dataframe thead th {\n",
              "        text-align: right;\n",
              "    }\n",
              "</style>\n",
              "<table border=\"1\" class=\"dataframe\">\n",
              "  <thead>\n",
              "    <tr style=\"text-align: right;\">\n",
              "      <th></th>\n",
              "      <th>Q1: How rational is the AI reasoning in your opinion?</th>\n",
              "      <th>Q2: How easy is it for you to use the graphical tool?</th>\n",
              "      <th>Q3: Do you have any suggested features that you think system should implement in the future?</th>\n",
              "      <th>Q4: If you encounter any difficulty as modifying AI reasoning, could you briefly state what it is?</th>\n",
              "      <th>Q5: Do you have any feedback on the usability of this system?</th>\n",
              "    </tr>\n",
              "    <tr>\n",
              "      <th>ID</th>\n",
              "      <th></th>\n",
              "      <th></th>\n",
              "      <th></th>\n",
              "      <th></th>\n",
              "      <th></th>\n",
              "    </tr>\n",
              "  </thead>\n",
              "  <tbody>\n",
              "    <tr>\n",
              "      <th>3efd677f-b67a-481d-9a94-a41b5d57e426</th>\n",
              "      <td>Somewhat_rational</td>\n",
              "      <td>Hard_to_tell</td>\n",
              "      <td>drop downs so you could choose from the selected list of needs and relations</td>\n",
              "      <td>NaN</td>\n",
              "      <td>NaN</td>\n",
              "    </tr>\n",
              "    <tr>\n",
              "      <th>7f782e16-ce6e-4455-a19f-a67237eca938</th>\n",
              "      <td>Hard_to_tell</td>\n",
              "      <td>Very_difficult</td>\n",
              "      <td>Too much text to read.</td>\n",
              "      <td>NaN</td>\n",
              "      <td>Gamify it.</td>\n",
              "    </tr>\n",
              "    <tr>\n",
              "      <th>8f7f7e60-e3a1-46f8-beb1-2742d1d332e5</th>\n",
              "      <td>Somewhat_irrational</td>\n",
              "      <td>Hard_to_tell</td>\n",
              "      <td>Maybe add emotion to each relation to show if that relation produced something positive or negative?</td>\n",
              "      <td>I did not realize that user would modify just one reasoning. I might have picked a different one if I knew that</td>\n",
              "      <td>Already very easy to use. The instructions on the beginning might be too much too consume.</td>\n",
              "    </tr>\n",
              "    <tr>\n",
              "      <th>36a52f1a-8413-4a63-a2d9-855583f73f04</th>\n",
              "      <td>Hard_to_tell</td>\n",
              "      <td>Somewhat_easy</td>\n",
              "      <td>allow the use to provide sentence level reasoning</td>\n",
              "      <td>using single concept to explain underlying reasoning is very limited</td>\n",
              "      <td>Select from existing node/link instead of typing</td>\n",
              "    </tr>\n",
              "    <tr>\n",
              "      <th>52c5809f-7e71-4e6a-86f7-0e2181eebc2b</th>\n",
              "      <td>Somewhat_irrational</td>\n",
              "      <td>Hard_to_tell</td>\n",
              "      <td>NaN</td>\n",
              "      <td>NaN</td>\n",
              "      <td>NaN</td>\n",
              "    </tr>\n",
              "    <tr>\n",
              "      <th>67e6b483-1aae-4ba5-b251-aa5ee1481fad</th>\n",
              "      <td>Hard_to_tell</td>\n",
              "      <td>Somewhat_easy</td>\n",
              "      <td>Looks good!</td>\n",
              "      <td>Humans aren't perfect at reasoning either so for more complex situations, it might be difficult to train AI reasoning since people themselves don't agree or reason \\\"correctly\\\" (if there is even such a thing) themselves.</td>\n",
              "      <td>Is there only a specific way the arrows can go? I noticed that i couldn't change the direction of the arrows even when i created the link from both nodes each time. It only got created for the node which didn't have any other links associated.\\r\\n\\r\\nFor this feedback system, we can either pick answers for 2 or 3.</td>\n",
              "    </tr>\n",
              "    <tr>\n",
              "      <th>73c4b678-7da0-460e-a101-69fc63c5bf16</th>\n",
              "      <td>Somewhat_irrational</td>\n",
              "      <td>Somewhat_difficult</td>\n",
              "      <td>NaN</td>\n",
              "      <td>NaN</td>\n",
              "      <td>it was easier the second time</td>\n",
              "    </tr>\n",
              "    <tr>\n",
              "      <th>78d9434d-b886-4d48-8f86-dc3f935e1ab6</th>\n",
              "      <td>Somewhat_rational</td>\n",
              "      <td>Somewhat_easy</td>\n",
              "      <td>NaN</td>\n",
              "      <td>NaN</td>\n",
              "      <td>NaN</td>\n",
              "    </tr>\n",
              "    <tr>\n",
              "      <th>143db38a-9d2d-44ed-a1d1-ab7d5bff608a</th>\n",
              "      <td>Somewhat_rational</td>\n",
              "      <td>Somewhat_easy</td>\n",
              "      <td>NaN</td>\n",
              "      <td>NaN</td>\n",
              "      <td>NaN</td>\n",
              "    </tr>\n",
              "    <tr>\n",
              "      <th>8178a10f-7ece-4227-9704-df769bfe9290</th>\n",
              "      <td>Somewhat_rational</td>\n",
              "      <td>Somewhat_easy</td>\n",
              "      <td>Show an interactive sample - a video? It's a little hard to understand the task through the directions, even after reading them twice.</td>\n",
              "      <td>NaN</td>\n",
              "      <td>The interface for modifying reasoning is great. Very fluid and intuitive.</td>\n",
              "    </tr>\n",
              "    <tr>\n",
              "      <th>60054ea6-0ad9-42d1-9cd0-885a6a86a34e</th>\n",
              "      <td>Hard_to_tell</td>\n",
              "      <td>Hard_to_tell</td>\n",
              "      <td>Not sure</td>\n",
              "      <td>Not sure</td>\n",
              "      <td>It was not clear on what to do</td>\n",
              "    </tr>\n",
              "    <tr>\n",
              "      <th>49966290-7848-4d8d-8617-fc7d6b57983e</th>\n",
              "      <td>Somewhat_irrational</td>\n",
              "      <td>Somewhat_difficult</td>\n",
              "      <td>NaN</td>\n",
              "      <td>NaN</td>\n",
              "      <td>NaN</td>\n",
              "    </tr>\n",
              "    <tr>\n",
              "      <th>dcf832b0-2e7b-4a8b-b52e-e5cd112b3ca3</th>\n",
              "      <td>Somewhat_rational</td>\n",
              "      <td>Hard_to_tell</td>\n",
              "      <td>NaN</td>\n",
              "      <td>NaN</td>\n",
              "      <td>NaN</td>\n",
              "    </tr>\n",
              "    <tr>\n",
              "      <th>f0ed3e0b-d2dc-4659-978a-f34549bbbdb6</th>\n",
              "      <td>Very_irrational</td>\n",
              "      <td>Somewhat_easy</td>\n",
              "      <td>I really don't think the paths generated by AI make much sense</td>\n",
              "      <td>select one rationale path to edit</td>\n",
              "      <td>The first several pages are too overwhelming. There is no tutorial in the path modification page</td>\n",
              "    </tr>\n",
              "    <tr>\n",
              "      <th>fd350ea2-0a96-420c-a534-1ccdb389f472</th>\n",
              "      <td>Very_irrational</td>\n",
              "      <td>Somewhat_easy</td>\n",
              "      <td>Maybe suggest which words you can modify within the node (ex. should the words you add to a node only be within the context of the story?)\\r\\n\\r\\nThese needs could be on the side left column to be more accessible, instead of the click button.</td>\n",
              "      <td>NaN</td>\n",
              "      <td>mini survey would not let me answer both question 2 and question 3</td>\n",
              "    </tr>\n",
              "  </tbody>\n",
              "</table>\n",
              "</div>"
            ],
            "text/plain": [
              "                                     Q1: How rational is the AI reasoning in your opinion?  ...                                                                                                                                                                                                                                                                Q5: Do you have any feedback on the usability of this system?\n",
              " ID                                                                                         ...                                                                                                                                                                                                                                                                                                                             \n",
              "3efd677f-b67a-481d-9a94-a41b5d57e426                                     Somewhat_rational  ...                                                                                                                                                                                                                                                                                                                          NaN\n",
              "7f782e16-ce6e-4455-a19f-a67237eca938                                          Hard_to_tell  ...                                                                                                                                                                                                                                                                                                                   Gamify it.\n",
              "8f7f7e60-e3a1-46f8-beb1-2742d1d332e5                                   Somewhat_irrational  ...                                                                                                                                                                                                                                   Already very easy to use. The instructions on the beginning might be too much too consume.\n",
              "36a52f1a-8413-4a63-a2d9-855583f73f04                                          Hard_to_tell  ...                                                                                                                                                                                                                                                                             Select from existing node/link instead of typing\n",
              "52c5809f-7e71-4e6a-86f7-0e2181eebc2b                                   Somewhat_irrational  ...                                                                                                                                                                                                                                                                                                                          NaN\n",
              "67e6b483-1aae-4ba5-b251-aa5ee1481fad                                          Hard_to_tell  ...  Is there only a specific way the arrows can go? I noticed that i couldn't change the direction of the arrows even when i created the link from both nodes each time. It only got created for the node which didn't have any other links associated.\\r\\n\\r\\nFor this feedback system, we can either pick answers for 2 or 3.\n",
              "73c4b678-7da0-460e-a101-69fc63c5bf16                                   Somewhat_irrational  ...                                                                                                                                                                                                                                                                                                it was easier the second time\n",
              "78d9434d-b886-4d48-8f86-dc3f935e1ab6                                     Somewhat_rational  ...                                                                                                                                                                                                                                                                                                                          NaN\n",
              "143db38a-9d2d-44ed-a1d1-ab7d5bff608a                                     Somewhat_rational  ...                                                                                                                                                                                                                                                                                                                          NaN\n",
              "8178a10f-7ece-4227-9704-df769bfe9290                                     Somewhat_rational  ...                                                                                                                                                                                                                                                    The interface for modifying reasoning is great. Very fluid and intuitive.\n",
              "60054ea6-0ad9-42d1-9cd0-885a6a86a34e                                          Hard_to_tell  ...                                                                                                                                                                                                                                                                                               It was not clear on what to do\n",
              "49966290-7848-4d8d-8617-fc7d6b57983e                                   Somewhat_irrational  ...                                                                                                                                                                                                                                                                                                                          NaN\n",
              "dcf832b0-2e7b-4a8b-b52e-e5cd112b3ca3                                     Somewhat_rational  ...                                                                                                                                                                                                                                                                                                                          NaN\n",
              "f0ed3e0b-d2dc-4659-978a-f34549bbbdb6                                       Very_irrational  ...                                                                                                                                                                                                                             The first several pages are too overwhelming. There is no tutorial in the path modification page\n",
              "fd350ea2-0a96-420c-a534-1ccdb389f472                                       Very_irrational  ...                                                                                                                                                                                                                                                           mini survey would not let me answer both question 2 and question 3\n",
              "\n",
              "[15 rows x 5 columns]"
            ]
          },
          "metadata": {
            "tags": []
          },
          "execution_count": 47
        }
      ]
    },
    {
      "cell_type": "markdown",
      "metadata": {
        "id": "ewrUXwVqsccF"
      },
      "source": [
        "##Q1: How rational is the AI reasoning in your opinion?"
      ]
    },
    {
      "cell_type": "code",
      "metadata": {
        "id": "mJ7N53OqpBQd",
        "outputId": "87a2db88-201d-46ce-dd40-5cb337e157a2",
        "colab": {
          "base_uri": "https://localhost:8080/",
          "height": 446
        }
      },
      "source": [
        "#count the answer of Q1\n",
        "f, ax = plt.subplots(1, 1)\n",
        "f.set_size_inches(10, 6)\n",
        "df_survey_q1 = df_survey.groupby([\"Q1: How rational is the AI reasoning in your opinion?\"]).size().reset_index(name=\"count\")\n",
        "ax = sns.barplot(\"Q1: How rational is the AI reasoning in your opinion?\", \"count\", data=df_survey_q1, ax=ax)\n",
        "\n",
        "for p in ax.patches:\n",
        "  #p.get_height == count\n",
        "  #xytext is the relative corr to the corrdinate of anonotation\n",
        "    ax.annotate(\"%d\" % p.get_height(), (p.get_x() + p.get_width() / 2., p.get_height()),\n",
        "        ha='center', va='center', fontsize=11, color='gray', xytext=(0, 15),\n",
        "        textcoords='offset points')"
      ],
      "execution_count": 48,
      "outputs": [
        {
          "output_type": "stream",
          "text": [
            "/usr/local/lib/python3.6/dist-packages/seaborn/_decorators.py:43: FutureWarning: Pass the following variables as keyword args: x, y. From version 0.12, the only valid positional argument will be `data`, and passing other arguments without an explicit keyword will result in an error or misinterpretation.\n",
            "  FutureWarning\n"
          ],
          "name": "stderr"
        },
        {
          "output_type": "display_data",
          "data": {
            "image/png": "[encoded data removed]",
            "text/plain": [
              "<Figure size 720x432 with 1 Axes>"
            ]
          },
          "metadata": {
            "tags": [],
            "needs_background": "light"
          }
        }
      ]
    },
    {
      "cell_type": "markdown",
      "metadata": {
        "id": "fObz_if8zHBw"
      },
      "source": [
        "## Q2: How easy is it for you to use the graphical tool?\n",
        "The data collected for Q2 is noisy since I forgot to change the \"choice id\" as I created Q3 by modifying a copy of Q2 :( \n",
        "\n",
        "Sadly, I cannot distinguish whether people was answering Q2 or Q3 based on the collected data."
      ]
    },
    {
      "cell_type": "markdown",
      "metadata": {
        "id": "wDs7v2ZNsPfH"
      },
      "source": [
        "##Q4: Do you have any suggested features that you think system should implement in the future?\n",
        "\n",
        "### Feedback:\n",
        "\n",
        "### 1. Better display of relation types and human needs\n",
        "- \"drop downs so you could choose from the selected list of needs and relations\"\n",
        "- \"Maybe add emotion to each relation to show if that relation produced something positive or negative?\"\n",
        "\n",
        "### 2. Improvement of instruction\n",
        "- \"Too much text to read.\"\n",
        "- \"Show an interactive sample - a video? It's a little hard to understand the task through the directions, even after reading them twice.\"\n",
        "- \"Maybe suggest which words you can modify within the node (ex. should the words you add to a node only be within the context of the story?) These needs could be on the side left column to be more accessible, instead of the click button.\"\n",
        "\n",
        "### 3. Better display and interaction of AI reasoning\n",
        "- \"allow the use to provide sentence level reasoning\"\n",
        "- \"I really don't think the paths generated by AI make much sense\""
      ]
    },
    {
      "cell_type": "markdown",
      "metadata": {
        "id": "IHjuoAVyvZTx"
      },
      "source": [
        "## Q5: If you encounter any difficulty as modifying AI reasoning, could you briefly state what it is?\n",
        "### Feedback:\n",
        "- \"I did not realize that user would modify just one reasoning. I might have picked a different one if I knew that\"\n",
        "- \"using single concept to explain underlying reasoning is very limited\"\n",
        "- \"Humans aren't perfect at reasoning either so for more complex situations, it might be difficult to train AI reasoning since people themselves don't agree or reason \"correctly\" (if there is even such a thing) themselves.\"\n",
        "- \"select one rationale path to edit\""
      ]
    },
    {
      "cell_type": "markdown",
      "metadata": {
        "id": "59JZAaTPwoXs"
      },
      "source": [
        ""
      ]
    },
    {
      "cell_type": "markdown",
      "metadata": {
        "id": "j3VHcP-PwANL"
      },
      "source": [
        "## Q6: Do you have any feedback on the usability of this system?\n",
        "### Feedback:\n",
        "- \"Already very easy to use. The instructions on the beginning might be too much too consume.\"\n",
        "- \"Select from existing node/link instead of typing\"\n",
        "- \"Is there only a specific way the arrows can go? I noticed that i couldn't change the direction of the arrows even when i created the link from both nodes each time. It only got created for the node which didn't have any other links associated. For this feedback system, we can either pick answers for 2 or 3.\"\n",
        "- \"it was easier the second time\"\n",
        "- \"The interface for modifying reasoning is great. Very fluid and intuitive.\"\n",
        "- \"It was not clear on what to do\"\n",
        "- \"The first several pages are too overwhelming. There is no tutorial in the path modification page\"\n",
        "- \"mini survey would not let me answer both question 2 and question 3\""
      ]
    }
  ]
}