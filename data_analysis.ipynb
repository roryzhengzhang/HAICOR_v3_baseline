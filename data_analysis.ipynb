{
  "nbformat": 4,
  "nbformat_minor": 0,
  "metadata": {
    "colab": {
      "name": "data_analysis.ipynb",
      "provenance": [],
      "collapsed_sections": [],
      "mount_file_id": "1H8cXzZra6JeMaKRDx6Qs4W1Olf4z75SI",
      "authorship_tag": "ABX9TyMsMtf1CUui4EFVAsFSVS/c",
      "include_colab_link": true
    },
    "kernelspec": {
      "name": "python3",
      "display_name": "Python 3"
    }
  },
  "cells": [
    {
      "cell_type": "markdown",
      "metadata": {
        "id": "view-in-github",
        "colab_type": "text"
      },
      "source": [
        "<a href=\"https://colab.research.google.com/github/roryzhengzhang/HAICOR_v3_baseline/blob/master/data_analysis.ipynb\" target=\"_parent\"><img src=\"https://colab.research.google.com/assets/colab-badge.svg\" alt=\"Open In Colab\"/></a>"
      ]
    },
    {
      "cell_type": "code",
      "metadata": {
        "id": "K2LB8SM4Fg0a"
      },
      "source": [
        "import pandas as pd\n",
        "import numpy as np\n",
        "import matplotlib.pyplot as plt\n",
        "import seaborn as sns"
      ],
      "execution_count": null,
      "outputs": []
    },
    {
      "cell_type": "code",
      "metadata": {
        "id": "qGfry48PGaZz",
        "outputId": "36589f44-9f8a-4aa8-d85b-0cb6957fc0c1",
        "colab": {
          "base_uri": "https://localhost:8080/",
          "height": 70
        }
      },
      "source": [
        "df = pd.read_csv( \"log_data.csv\", header = 0, index_col=\"id\")\n",
        "pd.set_option('display.max_colwidth', -1)\n",
        "pd.set_option('max_colwidth', 400)"
      ],
      "execution_count": null,
      "outputs": [
        {
          "output_type": "stream",
          "text": [
            "/usr/local/lib/python3.6/dist-packages/ipykernel_launcher.py:2: FutureWarning: Passing a negative integer is deprecated in version 1.0 and will not be supported in future version. Instead, use None to not limit the column width.\n",
            "  \n"
          ],
          "name": "stderr"
        }
      ]
    },
    {
      "cell_type": "markdown",
      "metadata": {
        "id": "C9oAqeQBw4fD"
      },
      "source": [
        "## Path modification log table"
      ]
    },
    {
      "cell_type": "code",
      "metadata": {
        "id": "-6b07wAeiMtn",
        "outputId": "be719326-fce9-4617-dab4-318b24657eca",
        "colab": {
          "base_uri": "https://localhost:8080/",
          "height": 1000
        }
      },
      "source": [
        "df"
      ],
      "execution_count": null,
      "outputs": [
        {
          "output_type": "execute_result",
          "data": {
            "text/html": [
              "<div>\n",
              "<style scoped>\n",
              "    .dataframe tbody tr th:only-of-type {\n",
              "        vertical-align: middle;\n",
              "    }\n",
              "\n",
              "    .dataframe tbody tr th {\n",
              "        vertical-align: top;\n",
              "    }\n",
              "\n",
              "    .dataframe thead th {\n",
              "        text-align: right;\n",
              "    }\n",
              "</style>\n",
              "<table border=\"1\" class=\"dataframe\">\n",
              "  <thead>\n",
              "    <tr style=\"text-align: right;\">\n",
              "      <th></th>\n",
              "      <th>original path</th>\n",
              "      <th>resulting path</th>\n",
              "      <th>Overlapping concepts</th>\n",
              "      <th>create from scratch</th>\n",
              "      <th>interaction duration</th>\n",
              "      <th>operation sequence</th>\n",
              "    </tr>\n",
              "    <tr>\n",
              "      <th>id</th>\n",
              "      <th></th>\n",
              "      <th></th>\n",
              "      <th></th>\n",
              "      <th></th>\n",
              "      <th></th>\n",
              "      <th></th>\n",
              "    </tr>\n",
              "  </thead>\n",
              "  <tbody>\n",
              "    <tr>\n",
              "      <th>36a52f1a-8413-4a63-a2d9-855583f73f04</th>\n",
              "      <td>leftover related to remaining synonym rest</td>\n",
              "      <td>leftover related to remaining synonym Belonging;</td>\n",
              "      <td>2</td>\n",
              "      <td>False</td>\n",
              "      <td>1:20</td>\n",
              "      <td>modify node: rest to Belonging</td>\n",
              "    </tr>\n",
              "    <tr>\n",
              "      <th>98747b8a-a142-4792-b734-319f993b4be6</th>\n",
              "      <td>leftover is a remainder related to possession related to belonging</td>\n",
              "      <td>friends hasPrerequisite acceptance entails belonging</td>\n",
              "      <td>0</td>\n",
              "      <td>True</td>\n",
              "      <td>4:32</td>\n",
              "      <td>delete node: remainder; delete node: leftover; delete node: possession; new node creation: friends; new node creation: acceptance; new node creation: belonging; new link creation: acceptance related to entails; new link creation: acceptance entails belonging; modify link: acceptance entails belonging; new link creation: friends hasPrerequisite acceptance; modify link: friends hasPrerequisite a...</td>\n",
              "    </tr>\n",
              "    <tr>\n",
              "      <th>49966290-7848-4d8d-8617-fc7d6b57983e</th>\n",
              "      <td>pretend motivated by goal playing used for competing causes competition</td>\n",
              "      <td>pretend motivated by goal mask the truth;</td>\n",
              "      <td>1</td>\n",
              "      <td>False</td>\n",
              "      <td>1:34</td>\n",
              "      <td>delete node: pretend; delete node: competing; delete node: competition; modify node: playing to mask the truth</td>\n",
              "    </tr>\n",
              "    <tr>\n",
              "      <th>60054ea6-0ad9-42d1-9cd0-885a6a86a34e</th>\n",
              "      <td>leftover related to remaining synonym rest</td>\n",
              "      <td>Friendship related to Belonging; \\nFriendship related to Approval;</td>\n",
              "      <td>0</td>\n",
              "      <td>True</td>\n",
              "      <td>8:10</td>\n",
              "      <td>new node creation: Friendship; new node creation: Excluding; new node creation: Belonging; new link creation: Friendship related to Belonging; new node creation: Approval; new link creation: Friendship related to Belonging; new link creation: Friendship related to Approval; delete link: Friendship to related to Belonging;</td>\n",
              "    </tr>\n",
              "    <tr>\n",
              "      <th>3efd677f-b67a-481d-9a94-a41b5d57e426</th>\n",
              "      <td>pretend motivated by goal playing used for competing causes competition</td>\n",
              "      <td>pretended related to ignore motivated by goal approval;</td>\n",
              "      <td>1</td>\n",
              "      <td>True</td>\n",
              "      <td>10:47</td>\n",
              "      <td>new node creation: grateful; delete node: grateful; new node creation: pretended; new node creation: approval; new node creation: acceptance; new link creation: acceptance related to pretended; delete link: acceptance to related to pretended; new link creation: acceptance related to pretended; modify link: acceptance related to pretended; new node creation: fake; delete node: acceptance; delet...</td>\n",
              "    </tr>\n",
              "    <tr>\n",
              "      <th>f0ed3e0b-d2dc-4659-978a-f34549bbbdb6</th>\n",
              "      <td>pretend motivated by goal playing used for competing causes competition</td>\n",
              "      <td>pretend motivated by goal make someone happy used for maintain friendship causes social needs;</td>\n",
              "      <td>1</td>\n",
              "      <td>False</td>\n",
              "      <td>1:10</td>\n",
              "      <td>modify node: playing to make someone happymodify node: competing to maintain friendshipmodify node: competition to social needs</td>\n",
              "    </tr>\n",
              "    <tr>\n",
              "      <th>52c5809f-7e71-4e6a-86f7-0e2181eebc2b</th>\n",
              "      <td>leftover related to remaining synonym rest</td>\n",
              "      <td>May made a friendship bracelet is a Friendship bracelet is a nice thing; Friendship bracelet is a nice thing cause Gina pretend to be grateful; Grateful cause Gina pretend to be grateful; it's expected to thank people who did nice things to you related to Grateful;</td>\n",
              "      <td>0</td>\n",
              "      <td>True</td>\n",
              "      <td>14:54</td>\n",
              "      <td>new node creation: May made a friendship bracelet; new node creation: it's expected to thank people who did nice thing to you; new node creation: Gina pretend to be grateful; new link creation: May made a friendship bracelet related to it's expected to thank people who did nice thing to you; new link creation: it's expected to thank people who did nice things to you causes Gina pretend to be g...</td>\n",
              "    </tr>\n",
              "    <tr>\n",
              "      <th>143db38a-9d2d-44ed-a1d1-ab7d5bff608a</th>\n",
              "      <td>leftover is a remainder related to possession related to belonging</td>\n",
              "      <td>friendship related to belonging;</td>\n",
              "      <td>1</td>\n",
              "      <td>True</td>\n",
              "      <td>5:54</td>\n",
              "      <td>new node creation: being nice; new link creation: being nice related to being nice; delete link: being nice to related to being nice; modify node: being nice to approvalnew node creation: belonging; new node creation: friendship; new link creation: friendship related to belonging;</td>\n",
              "    </tr>\n",
              "    <tr>\n",
              "      <th>73c4b678-7da0-460e-a101-69fc63c5bf16</th>\n",
              "      <td>pretend motivated by goal actor is a person desires independent</td>\n",
              "      <td>pretend motivated by goal belonging has prerequisite  approval;</td>\n",
              "      <td>1</td>\n",
              "      <td>False</td>\n",
              "      <td>1:33</td>\n",
              "      <td>modify node: actor to belongingmodify link: belonging has prerequisite  approval; modify node: person to approvaldelete node: independent;</td>\n",
              "    </tr>\n",
              "    <tr>\n",
              "      <th>fd350ea2-0a96-420c-a534-1ccdb389f472</th>\n",
              "      <td>leftover related to remaining synonym rest</td>\n",
              "      <td>leftover related to remaining synonym waste;</td>\n",
              "      <td>2</td>\n",
              "      <td>False</td>\n",
              "      <td>0:41</td>\n",
              "      <td>modify node: rest to waste</td>\n",
              "    </tr>\n",
              "    <tr>\n",
              "      <th>8f7f7e60-e3a1-46f8-beb1-2742d1d332e5</th>\n",
              "      <td>leftover related to remaining synonym rest</td>\n",
              "      <td>leftover related to remaining synonym belonging;</td>\n",
              "      <td>2</td>\n",
              "      <td>False</td>\n",
              "      <td>1:03</td>\n",
              "      <td>modify node: rest to belonging</td>\n",
              "    </tr>\n",
              "  </tbody>\n",
              "</table>\n",
              "</div>"
            ],
            "text/plain": [
              "                                                                                                original path  ...                                                                                                                                                                                                                                                                                                                                                                                               operation sequence\n",
              "id                                                                                                             ...                                                                                                                                                                                                                                                                                                                                                                                                                 \n",
              "36a52f1a-8413-4a63-a2d9-855583f73f04                               leftover related to remaining synonym rest  ...                                                                                                                                                                                                                                                                                                                                                                                   modify node: rest to Belonging\n",
              "98747b8a-a142-4792-b734-319f993b4be6       leftover is a remainder related to possession related to belonging  ...  delete node: remainder; delete node: leftover; delete node: possession; new node creation: friends; new node creation: acceptance; new node creation: belonging; new link creation: acceptance related to entails; new link creation: acceptance entails belonging; modify link: acceptance entails belonging; new link creation: friends hasPrerequisite acceptance; modify link: friends hasPrerequisite a...\n",
              "49966290-7848-4d8d-8617-fc7d6b57983e  pretend motivated by goal playing used for competing causes competition  ...                                                                                                                                                                                                                                                                                                   delete node: pretend; delete node: competing; delete node: competition; modify node: playing to mask the truth\n",
              "60054ea6-0ad9-42d1-9cd0-885a6a86a34e                               leftover related to remaining synonym rest  ...                                                                              new node creation: Friendship; new node creation: Excluding; new node creation: Belonging; new link creation: Friendship related to Belonging; new node creation: Approval; new link creation: Friendship related to Belonging; new link creation: Friendship related to Approval; delete link: Friendship to related to Belonging;\n",
              "3efd677f-b67a-481d-9a94-a41b5d57e426  pretend motivated by goal playing used for competing causes competition  ...  new node creation: grateful; delete node: grateful; new node creation: pretended; new node creation: approval; new node creation: acceptance; new link creation: acceptance related to pretended; delete link: acceptance to related to pretended; new link creation: acceptance related to pretended; modify link: acceptance related to pretended; new node creation: fake; delete node: acceptance; delet...\n",
              "f0ed3e0b-d2dc-4659-978a-f34549bbbdb6  pretend motivated by goal playing used for competing causes competition  ...                                                                                                                                                                                                                                                                                  modify node: playing to make someone happymodify node: competing to maintain friendshipmodify node: competition to social needs\n",
              "52c5809f-7e71-4e6a-86f7-0e2181eebc2b                               leftover related to remaining synonym rest  ...  new node creation: May made a friendship bracelet; new node creation: it's expected to thank people who did nice thing to you; new node creation: Gina pretend to be grateful; new link creation: May made a friendship bracelet related to it's expected to thank people who did nice thing to you; new link creation: it's expected to thank people who did nice things to you causes Gina pretend to be g...\n",
              "143db38a-9d2d-44ed-a1d1-ab7d5bff608a       leftover is a remainder related to possession related to belonging  ...                                                                                                                        new node creation: being nice; new link creation: being nice related to being nice; delete link: being nice to related to being nice; modify node: being nice to approvalnew node creation: belonging; new node creation: friendship; new link creation: friendship related to belonging;\n",
              "73c4b678-7da0-460e-a101-69fc63c5bf16          pretend motivated by goal actor is a person desires independent  ...                                                                                                                                                                                                                                                                       modify node: actor to belongingmodify link: belonging has prerequisite  approval; modify node: person to approvaldelete node: independent;\n",
              "fd350ea2-0a96-420c-a534-1ccdb389f472                               leftover related to remaining synonym rest  ...                                                                                                                                                                                                                                                                                                                                                                                       modify node: rest to waste\n",
              "8f7f7e60-e3a1-46f8-beb1-2742d1d332e5                               leftover related to remaining synonym rest  ...                                                                                                                                                                                                                                                                                                                                                                                   modify node: rest to belonging\n",
              "\n",
              "[11 rows x 6 columns]"
            ]
          },
          "metadata": {
            "tags": []
          },
          "execution_count": 79
        }
      ]
    },
    {
      "cell_type": "markdown",
      "metadata": {
        "id": "SH5V8c2gxEOV"
      },
      "source": [
        "## How many people choose to create path from scratch? "
      ]
    },
    {
      "cell_type": "code",
      "metadata": {
        "id": "YVKZua8xGqHO",
        "outputId": "75194666-6599-4c9c-c03f-2c679141cade",
        "colab": {
          "base_uri": "https://localhost:8080/",
          "height": 289
        }
      },
      "source": [
        "df_group = df.groupby(\"create from scratch\").size().reset_index(name=\"count\")\n",
        "df_group\n",
        "\n",
        "f, ax = plt.subplots(1, 1)\n",
        "ax = sns.barplot(ax=ax, x=\"create from scratch\", y=\"count\", data=df_group)\n",
        "\n",
        "for p in ax.patches:\n",
        "  #p.get_height == count\n",
        "  #xytext is the relative corr to the corrdinate of anonotation\n",
        "    ax.annotate(\"%d\" % p.get_height(), (p.get_x() + p.get_width() / 2., p.get_height()),\n",
        "        ha='center', va='center', fontsize=11, color='gray', xytext=(0, 15),\n",
        "        textcoords='offset points')"
      ],
      "execution_count": null,
      "outputs": [
        {
          "output_type": "display_data",
          "data": {
            "image/png": "[encoded data removed]",
            "text/plain": [
              "<Figure size 432x288 with 1 Axes>"
            ]
          },
          "metadata": {
            "tags": [],
            "needs_background": "light"
          }
        }
      ]
    },
    {
      "cell_type": "markdown",
      "metadata": {
        "id": "N7Mkwu0kxpCt"
      },
      "source": [
        "## How different is the modified path from the original path?"
      ]
    },
    {
      "cell_type": "code",
      "metadata": {
        "id": "d1BzxCaqGrAx"
      },
      "source": [
        "df_overlap = df.groupby([\"create from scratch\", \"Overlapping concepts\"]).size().reset_index(name=\"count\")"
      ],
      "execution_count": null,
      "outputs": []
    },
    {
      "cell_type": "code",
      "metadata": {
        "id": "yaEi3nJ0eOeN",
        "outputId": "66dad88e-ed1f-4787-9e39-b98513101806",
        "colab": {
          "base_uri": "https://localhost:8080/",
          "height": 388
        }
      },
      "source": [
        "f, ax = plt.subplots(1, 1)\n",
        "f.set_size_inches(12, 6)\n",
        "df_overlap = df_overlap.rename(columns={\"Overlapping concepts\":\"Shared concepts between old and new path\"})\n",
        "ax = sns.barplot(ax=ax, x=\"create from scratch\", y=\"count\", hue=\"Shared concepts between old and new path\", data=df_overlap)"
      ],
      "execution_count": null,
      "outputs": [
        {
          "output_type": "display_data",
          "data": {
            "image/png": "[encoded data removed]",
            "text/plain": [
              "<Figure size 864x432 with 1 Axes>"
            ]
          },
          "metadata": {
            "tags": [],
            "needs_background": "light"
          }
        }
      ]
    },
    {
      "cell_type": "markdown",
      "metadata": {
        "id": "49oJ5qx7y1hM"
      },
      "source": [
        "## Summary of survey data"
      ]
    },
    {
      "cell_type": "code",
      "metadata": {
        "id": "562KcbUefpKW",
        "outputId": "5fbc516b-823f-4736-ba2b-9a5b4bd43e32",
        "colab": {
          "base_uri": "https://localhost:8080/",
          "height": 1000
        }
      },
      "source": [
        "df_survey = pd.read_csv(\"survey.csv\", header=0, index_col=\"ID\")\n",
        "df_survey"
      ],
      "execution_count": null,
      "outputs": [
        {
          "output_type": "execute_result",
          "data": {
            "text/html": [
              "<div>\n",
              "<style scoped>\n",
              "    .dataframe tbody tr th:only-of-type {\n",
              "        vertical-align: middle;\n",
              "    }\n",
              "\n",
              "    .dataframe tbody tr th {\n",
              "        vertical-align: top;\n",
              "    }\n",
              "\n",
              "    .dataframe thead th {\n",
              "        text-align: right;\n",
              "    }\n",
              "</style>\n",
              "<table border=\"1\" class=\"dataframe\">\n",
              "  <thead>\n",
              "    <tr style=\"text-align: right;\">\n",
              "      <th></th>\n",
              "      <th>Q1: How rational is the AI reasoning in your opinion?</th>\n",
              "      <th>Q2: How easy is it for you to use the graphical tool?</th>\n",
              "      <th>Q3: Do you have any suggested features that you think system should implement in the future?</th>\n",
              "      <th>Q4: If you encounter any difficulty as modifying AI reasoning, could you briefly state what it is?</th>\n",
              "      <th>Q5: Do you have any feedback on the usability of this system?</th>\n",
              "    </tr>\n",
              "    <tr>\n",
              "      <th>ID</th>\n",
              "      <th></th>\n",
              "      <th></th>\n",
              "      <th></th>\n",
              "      <th></th>\n",
              "      <th></th>\n",
              "    </tr>\n",
              "  </thead>\n",
              "  <tbody>\n",
              "    <tr>\n",
              "      <th>3efd677f-b67a-481d-9a94-a41b5d57e426</th>\n",
              "      <td>Somewhat_rational</td>\n",
              "      <td>Hard_to_tell</td>\n",
              "      <td>drop downs so you could choose from the selected list of needs and relations</td>\n",
              "      <td>NaN</td>\n",
              "      <td>NaN</td>\n",
              "    </tr>\n",
              "    <tr>\n",
              "      <th>7f782e16-ce6e-4455-a19f-a67237eca938</th>\n",
              "      <td>Hard_to_tell</td>\n",
              "      <td>Very_difficult</td>\n",
              "      <td>Too much text to read.</td>\n",
              "      <td>NaN</td>\n",
              "      <td>Gamify it.</td>\n",
              "    </tr>\n",
              "    <tr>\n",
              "      <th>8f7f7e60-e3a1-46f8-beb1-2742d1d332e5</th>\n",
              "      <td>Somewhat_irrational</td>\n",
              "      <td>Hard_to_tell</td>\n",
              "      <td>Maybe add emotion to each relation to show if that relation produced something positive or negative?</td>\n",
              "      <td>I did not realize that user would modify just one reasoning. I might have picked a different one if I knew that</td>\n",
              "      <td>Already very easy to use. The instructions on the beginning might be too much too consume.</td>\n",
              "    </tr>\n",
              "    <tr>\n",
              "      <th>36a52f1a-8413-4a63-a2d9-855583f73f04</th>\n",
              "      <td>Hard_to_tell</td>\n",
              "      <td>Somewhat_easy</td>\n",
              "      <td>allow the use to provide sentence level reasoning</td>\n",
              "      <td>using single concept to explain underlying reasoning is very limited</td>\n",
              "      <td>Select from existing node/link instead of typing</td>\n",
              "    </tr>\n",
              "    <tr>\n",
              "      <th>52c5809f-7e71-4e6a-86f7-0e2181eebc2b</th>\n",
              "      <td>Somewhat_irrational</td>\n",
              "      <td>Hard_to_tell</td>\n",
              "      <td>NaN</td>\n",
              "      <td>NaN</td>\n",
              "      <td>NaN</td>\n",
              "    </tr>\n",
              "    <tr>\n",
              "      <th>67e6b483-1aae-4ba5-b251-aa5ee1481fad</th>\n",
              "      <td>Hard_to_tell</td>\n",
              "      <td>Somewhat_easy</td>\n",
              "      <td>Looks good!</td>\n",
              "      <td>Humans aren't perfect at reasoning either so for more complex situations, it might be difficult to train AI reasoning since people themselves don't agree or reason \\\"correctly\\\" (if there is even such a thing) themselves.</td>\n",
              "      <td>Is there only a specific way the arrows can go? I noticed that i couldn't change the direction of the arrows even when i created the link from both nodes each time. It only got created for the node which didn't have any other links associated.\\r\\n\\r\\nFor this feedback system, we can either pick answers for 2 or 3.</td>\n",
              "    </tr>\n",
              "    <tr>\n",
              "      <th>73c4b678-7da0-460e-a101-69fc63c5bf16</th>\n",
              "      <td>Somewhat_irrational</td>\n",
              "      <td>Somewhat_difficult</td>\n",
              "      <td>NaN</td>\n",
              "      <td>NaN</td>\n",
              "      <td>it was easier the second time</td>\n",
              "    </tr>\n",
              "    <tr>\n",
              "      <th>78d9434d-b886-4d48-8f86-dc3f935e1ab6</th>\n",
              "      <td>Somewhat_rational</td>\n",
              "      <td>Somewhat_easy</td>\n",
              "      <td>NaN</td>\n",
              "      <td>NaN</td>\n",
              "      <td>NaN</td>\n",
              "    </tr>\n",
              "    <tr>\n",
              "      <th>143db38a-9d2d-44ed-a1d1-ab7d5bff608a</th>\n",
              "      <td>Somewhat_rational</td>\n",
              "      <td>Somewhat_easy</td>\n",
              "      <td>NaN</td>\n",
              "      <td>NaN</td>\n",
              "      <td>NaN</td>\n",
              "    </tr>\n",
              "    <tr>\n",
              "      <th>8178a10f-7ece-4227-9704-df769bfe9290</th>\n",
              "      <td>Somewhat_rational</td>\n",
              "      <td>Somewhat_easy</td>\n",
              "      <td>Show an interactive sample - a video? It's a little hard to understand the task through the directions, even after reading them twice.</td>\n",
              "      <td>NaN</td>\n",
              "      <td>The interface for modifying reasoning is great. Very fluid and intuitive.</td>\n",
              "    </tr>\n",
              "    <tr>\n",
              "      <th>60054ea6-0ad9-42d1-9cd0-885a6a86a34e</th>\n",
              "      <td>Hard_to_tell</td>\n",
              "      <td>Hard_to_tell</td>\n",
              "      <td>Not sure</td>\n",
              "      <td>Not sure</td>\n",
              "      <td>It was not clear on what to do</td>\n",
              "    </tr>\n",
              "    <tr>\n",
              "      <th>49966290-7848-4d8d-8617-fc7d6b57983e</th>\n",
              "      <td>Somewhat_irrational</td>\n",
              "      <td>Somewhat_difficult</td>\n",
              "      <td>NaN</td>\n",
              "      <td>NaN</td>\n",
              "      <td>NaN</td>\n",
              "    </tr>\n",
              "    <tr>\n",
              "      <th>dcf832b0-2e7b-4a8b-b52e-e5cd112b3ca3</th>\n",
              "      <td>Somewhat_rational</td>\n",
              "      <td>Hard_to_tell</td>\n",
              "      <td>NaN</td>\n",
              "      <td>NaN</td>\n",
              "      <td>NaN</td>\n",
              "    </tr>\n",
              "    <tr>\n",
              "      <th>f0ed3e0b-d2dc-4659-978a-f34549bbbdb6</th>\n",
              "      <td>Very_irrational</td>\n",
              "      <td>Somewhat_easy</td>\n",
              "      <td>I really don't think the paths generated by AI make much sense</td>\n",
              "      <td>select one rationale path to edit</td>\n",
              "      <td>The first several pages are too overwhelming. There is no tutorial in the path modification page</td>\n",
              "    </tr>\n",
              "    <tr>\n",
              "      <th>fd350ea2-0a96-420c-a534-1ccdb389f472</th>\n",
              "      <td>Very_irrational</td>\n",
              "      <td>Somewhat_easy</td>\n",
              "      <td>Maybe suggest which words you can modify within the node (ex. should the words you add to a node only be within the context of the story?)\\r\\n\\r\\nThese needs could be on the side left column to be more accessible, instead of the click button.</td>\n",
              "      <td>NaN</td>\n",
              "      <td>mini survey would not let me answer both question 2 and question 3</td>\n",
              "    </tr>\n",
              "  </tbody>\n",
              "</table>\n",
              "</div>"
            ],
            "text/plain": [
              "                                     Q1: How rational is the AI reasoning in your opinion?  ...                                                                                                                                                                                                                                                                Q5: Do you have any feedback on the usability of this system?\n",
              "ID                                                                                          ...                                                                                                                                                                                                                                                                                                                             \n",
              "3efd677f-b67a-481d-9a94-a41b5d57e426                                     Somewhat_rational  ...                                                                                                                                                                                                                                                                                                                          NaN\n",
              "7f782e16-ce6e-4455-a19f-a67237eca938                                          Hard_to_tell  ...                                                                                                                                                                                                                                                                                                                   Gamify it.\n",
              "8f7f7e60-e3a1-46f8-beb1-2742d1d332e5                                   Somewhat_irrational  ...                                                                                                                                                                                                                                   Already very easy to use. The instructions on the beginning might be too much too consume.\n",
              "36a52f1a-8413-4a63-a2d9-855583f73f04                                          Hard_to_tell  ...                                                                                                                                                                                                                                                                             Select from existing node/link instead of typing\n",
              "52c5809f-7e71-4e6a-86f7-0e2181eebc2b                                   Somewhat_irrational  ...                                                                                                                                                                                                                                                                                                                          NaN\n",
              "67e6b483-1aae-4ba5-b251-aa5ee1481fad                                          Hard_to_tell  ...  Is there only a specific way the arrows can go? I noticed that i couldn't change the direction of the arrows even when i created the link from both nodes each time. It only got created for the node which didn't have any other links associated.\\r\\n\\r\\nFor this feedback system, we can either pick answers for 2 or 3.\n",
              "73c4b678-7da0-460e-a101-69fc63c5bf16                                   Somewhat_irrational  ...                                                                                                                                                                                                                                                                                                it was easier the second time\n",
              "78d9434d-b886-4d48-8f86-dc3f935e1ab6                                     Somewhat_rational  ...                                                                                                                                                                                                                                                                                                                          NaN\n",
              "143db38a-9d2d-44ed-a1d1-ab7d5bff608a                                     Somewhat_rational  ...                                                                                                                                                                                                                                                                                                                          NaN\n",
              "8178a10f-7ece-4227-9704-df769bfe9290                                     Somewhat_rational  ...                                                                                                                                                                                                                                                    The interface for modifying reasoning is great. Very fluid and intuitive.\n",
              "60054ea6-0ad9-42d1-9cd0-885a6a86a34e                                          Hard_to_tell  ...                                                                                                                                                                                                                                                                                               It was not clear on what to do\n",
              "49966290-7848-4d8d-8617-fc7d6b57983e                                   Somewhat_irrational  ...                                                                                                                                                                                                                                                                                                                          NaN\n",
              "dcf832b0-2e7b-4a8b-b52e-e5cd112b3ca3                                     Somewhat_rational  ...                                                                                                                                                                                                                                                                                                                          NaN\n",
              "f0ed3e0b-d2dc-4659-978a-f34549bbbdb6                                       Very_irrational  ...                                                                                                                                                                                                                             The first several pages are too overwhelming. There is no tutorial in the path modification page\n",
              "fd350ea2-0a96-420c-a534-1ccdb389f472                                       Very_irrational  ...                                                                                                                                                                                                                                                           mini survey would not let me answer both question 2 and question 3\n",
              "\n",
              "[15 rows x 5 columns]"
            ]
          },
          "metadata": {
            "tags": []
          },
          "execution_count": 83
        }
      ]
    },
    {
      "cell_type": "markdown",
      "metadata": {
        "id": "ewrUXwVqsccF"
      },
      "source": [
        "##Q1: How rational is the AI reasoning in your opinion?"
      ]
    },
    {
      "cell_type": "code",
      "metadata": {
        "id": "mJ7N53OqpBQd",
        "outputId": "67dc3411-e843-400d-c280-d10ef1e1bee1",
        "colab": {
          "base_uri": "https://localhost:8080/",
          "height": 446
        }
      },
      "source": [
        "#count the answer of Q1\n",
        "f, ax = plt.subplots(1, 1)\n",
        "f.set_size_inches(10, 6)\n",
        "df_survey_q1 = df_survey.groupby([\"Q1: How rational is the AI reasoning in your opinion?\"]).size().reset_index(name=\"count\")\n",
        "ax = sns.barplot(\"Q1: How rational is the AI reasoning in your opinion?\", \"count\", data=df_survey_q1, ax=ax)\n",
        "\n",
        "for p in ax.patches:\n",
        "  #p.get_height == count\n",
        "  #xytext is the relative corr to the corrdinate of anonotation\n",
        "    ax.annotate(\"%d\" % p.get_height(), (p.get_x() + p.get_width() / 2., p.get_height()),\n",
        "        ha='center', va='center', fontsize=11, color='gray', xytext=(0, 15),\n",
        "        textcoords='offset points')"
      ],
      "execution_count": null,
      "outputs": [
        {
          "output_type": "stream",
          "text": [
            "/usr/local/lib/python3.6/dist-packages/seaborn/_decorators.py:43: FutureWarning: Pass the following variables as keyword args: x, y. From version 0.12, the only valid positional argument will be `data`, and passing other arguments without an explicit keyword will result in an error or misinterpretation.\n",
            "  FutureWarning\n"
          ],
          "name": "stderr"
        },
        {
          "output_type": "display_data",
          "data": {
            "image/png": "[encoded data removed]",
            "text/plain": [
              "<Figure size 720x432 with 1 Axes>"
            ]
          },
          "metadata": {
            "tags": [],
            "needs_background": "light"
          }
        }
      ]
    },
    {
      "cell_type": "markdown",
      "metadata": {
        "id": "fObz_if8zHBw"
      },
      "source": [
        "## Q2: How easy is it for you to use the graphical tool?\n",
        "The data collected for Q2 is noisy since I forgot to change the \"choice id\" as I created Q3 by modifying a copy of Q2 :( \n",
        "\n",
        "Sadly, I cannot distinguish whether people was answering Q2 or Q3 based on the collected data."
      ]
    },
    {
      "cell_type": "markdown",
      "metadata": {
        "id": "wDs7v2ZNsPfH"
      },
      "source": [
        "##Q4: Do you have any suggested features that you think system should implement in the future?\n",
        "\n",
        "### Feedback:\n",
        "\n",
        "### 1. Better display of relation types and human needs\n",
        "- \"drop downs so you could choose from the selected list of needs and relations\"\n",
        "- \"Maybe add emotion to each relation to show if that relation produced something positive or negative?\"\n",
        "\n",
        "### 2. Improvement of instruction\n",
        "- \"Too much text to read.\"\n",
        "- \"Show an interactive sample - a video? It's a little hard to understand the task through the directions, even after reading them twice.\"\n",
        "- \"Maybe suggest which words you can modify within the node (ex. should the words you add to a node only be within the context of the story?) These needs could be on the side left column to be more accessible, instead of the click button.\"\n",
        "\n",
        "### 3. Better display and interaction of AI reasoning\n",
        "- \"allow the use to provide sentence level reasoning\"\n",
        "- \"I really don't think the paths generated by AI make much sense\""
      ]
    },
    {
      "cell_type": "markdown",
      "metadata": {
        "id": "IHjuoAVyvZTx"
      },
      "source": [
        "## Q5: If you encounter any difficulty as modifying AI reasoning, could you briefly state what it is?\n",
        "### Feedback:\n",
        "- \"I did not realize that user would modify just one reasoning. I might have picked a different one if I knew that\"\n",
        "- \"using single concept to explain underlying reasoning is very limited\"\n",
        "- \"Humans aren't perfect at reasoning either so for more complex situations, it might be difficult to train AI reasoning since people themselves don't agree or reason \"correctly\" (if there is even such a thing) themselves.\"\n",
        "- \"select one rationale path to edit\""
      ]
    },
    {
      "cell_type": "markdown",
      "metadata": {
        "id": "59JZAaTPwoXs"
      },
      "source": [
        ""
      ]
    },
    {
      "cell_type": "markdown",
      "metadata": {
        "id": "j3VHcP-PwANL"
      },
      "source": [
        "## Q6: Do you have any feedback on the usability of this system?\n",
        "### Feedback:\n",
        "- \"Already very easy to use. The instructions on the beginning might be too much too consume.\"\n",
        "- \"Select from existing node/link instead of typing\"\n",
        "- \"Is there only a specific way the arrows can go? I noticed that i couldn't change the direction of the arrows even when i created the link from both nodes each time. It only got created for the node which didn't have any other links associated. For this feedback system, we can either pick answers for 2 or 3.\"\n",
        "- \"it was easier the second time\"\n",
        "- \"The interface for modifying reasoning is great. Very fluid and intuitive.\"\n",
        "- \"It was not clear on what to do\"\n",
        "- \"The first several pages are too overwhelming. There is no tutorial in the path modification page\"\n",
        "- \"mini survey would not let me answer both question 2 and question 3\""
      ]
    }
  ]
}