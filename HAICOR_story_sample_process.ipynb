{
  "nbformat": 4,
  "nbformat_minor": 0,
  "metadata": {
    "colab": {
      "name": "HAICOR story sample process.ipynb",
      "provenance": [],
      "collapsed_sections": [],
      "authorship_tag": "ABX9TyNOyS+wvL7wwGvCXUWmYwtF",
      "include_colab_link": true
    },
    "kernelspec": {
      "name": "python3",
      "display_name": "Python 3"
    }
  },
  "cells": [
    {
      "cell_type": "markdown",
      "metadata": {
        "id": "view-in-github",
        "colab_type": "text"
      },
      "source": [
        "<a href=\"https://colab.research.google.com/github/roryzhengzhang/HAICOR_v3_baseline/blob/master/HAICOR_story_sample_process.ipynb\" target=\"_parent\"><img src=\"https://colab.research.google.com/assets/colab-badge.svg\" alt=\"Open In Colab\"/></a>"
      ]
    },
    {
      "cell_type": "code",
      "metadata": {
        "id": "MhuZ0T9hQGLP"
      },
      "source": [
        "import json\n",
        "import pandas as pd\n",
        "import numpy as np"
      ],
      "execution_count": null,
      "outputs": []
    },
    {
      "cell_type": "code",
      "metadata": {
        "id": "tzwX44wLQRDQ",
        "outputId": "64871244-f236-4c49-e43a-7ebb7db43387",
        "colab": {
          "base_uri": "https://localhost:8080/",
          "height": 231
        }
      },
      "source": [
        "results = open(\"/content/new_story_instance.json\")\n",
        "results = json.load(results)\n",
        "#U is unicode in numpy dtype, and 200 is the max byte size allowed\n",
        "dtypes = [(\"attention_weight\", 'float'), (\"paths\", 'U200')]\n",
        "#we have to turn the nested list into a list of tuple\n",
        "paths = [ tuple(r) for r in results[\"reasons\"] ]\n",
        "paths = np.array(paths, dtype=dtypes)\n",
        "#use np.flip to reverse the order\n",
        "sorted_path = np.flip(np.sort(paths, axis=0))\n",
        "sorted_path"
      ],
      "execution_count": null,
      "outputs": [
        {
          "output_type": "error",
          "ename": "FileNotFoundError",
          "evalue": "ignored",
          "traceback": [
            "\u001b[0;31m---------------------------------------------------------------------------\u001b[0m",
            "\u001b[0;31mFileNotFoundError\u001b[0m                         Traceback (most recent call last)",
            "\u001b[0;32m<ipython-input-2-4b69205a0bd2>\u001b[0m in \u001b[0;36m<module>\u001b[0;34m()\u001b[0m\n\u001b[0;32m----> 1\u001b[0;31m \u001b[0mresults\u001b[0m \u001b[0;34m=\u001b[0m \u001b[0mopen\u001b[0m\u001b[0;34m(\u001b[0m\u001b[0;34m\"/content/new_story_instance.json\"\u001b[0m\u001b[0;34m)\u001b[0m\u001b[0;34m\u001b[0m\u001b[0;34m\u001b[0m\u001b[0m\n\u001b[0m\u001b[1;32m      2\u001b[0m \u001b[0mresults\u001b[0m \u001b[0;34m=\u001b[0m \u001b[0mjson\u001b[0m\u001b[0;34m.\u001b[0m\u001b[0mload\u001b[0m\u001b[0;34m(\u001b[0m\u001b[0mresults\u001b[0m\u001b[0;34m)\u001b[0m\u001b[0;34m\u001b[0m\u001b[0;34m\u001b[0m\u001b[0m\n\u001b[1;32m      3\u001b[0m \u001b[0;31m#U is unicode in numpy dtype, and 200 is the max byte size allowed\u001b[0m\u001b[0;34m\u001b[0m\u001b[0;34m\u001b[0m\u001b[0;34m\u001b[0m\u001b[0m\n\u001b[1;32m      4\u001b[0m \u001b[0mdtypes\u001b[0m \u001b[0;34m=\u001b[0m \u001b[0;34m[\u001b[0m\u001b[0;34m(\u001b[0m\u001b[0;34m\"attention_weight\"\u001b[0m\u001b[0;34m,\u001b[0m \u001b[0;34m'float'\u001b[0m\u001b[0;34m)\u001b[0m\u001b[0;34m,\u001b[0m \u001b[0;34m(\u001b[0m\u001b[0;34m\"paths\"\u001b[0m\u001b[0;34m,\u001b[0m \u001b[0;34m'U200'\u001b[0m\u001b[0;34m)\u001b[0m\u001b[0;34m]\u001b[0m\u001b[0;34m\u001b[0m\u001b[0;34m\u001b[0m\u001b[0m\n\u001b[1;32m      5\u001b[0m \u001b[0;31m#we have to turn the nested list into a list of tuple\u001b[0m\u001b[0;34m\u001b[0m\u001b[0;34m\u001b[0m\u001b[0;34m\u001b[0m\u001b[0m\n",
            "\u001b[0;31mFileNotFoundError\u001b[0m: [Errno 2] No such file or directory: '/content/new_story_instance.json'"
          ]
        }
      ]
    },
    {
      "cell_type": "code",
      "metadata": {
        "id": "b9oH2_VISXBH",
        "outputId": "3b911a98-5459-4acb-950d-a73cd56f0e03",
        "colab": {
          "base_uri": "https://localhost:8080/",
          "height": 1000
        }
      },
      "source": [
        "for i, path in enumerate(sorted_path):\n",
        "  #print each path\n",
        "  print(\"Path\"+str(i+1)+\":\")\n",
        "  print(\"attention weight: \"+str(path[0]))\n",
        "  print(\"paths: \"+path[1])\n",
        "  print(\"\")"
      ],
      "execution_count": null,
      "outputs": [
        {
          "output_type": "stream",
          "text": [
            "Path1:\n",
            "attention weight: 0.39250510931015015\n",
            "paths: leftover related to remaining Synonym rest\n",
            "\n",
            "Path2:\n",
            "attention weight: 0.3107423484325409\n",
            "paths: leftover is a remainder related to possession related to belonging\n",
            "\n",
            "Path3:\n",
            "attention weight: 0.29675230383872986\n",
            "paths: leftover related to reserve related to ration related to food\n",
            "\n",
            "Path4:\n",
            "attention weight: 5.891256549261925e-08\n",
            "paths: pretend MotivatedByGoal playing used for competing Causes competition\n",
            "\n",
            "Path5:\n",
            "attention weight: 3.8512201427920445e-08\n",
            "paths: pretend MotivatedByGoal actor is a person Desires independent\n",
            "\n",
            "Path6:\n",
            "attention weight: 3.6412856729839405e-08\n",
            "paths: pretend has prerequisite think HasSubevent quiet related to calm\n",
            "\n",
            "Path7:\n",
            "attention weight: 3.1417577872616675e-08\n",
            "paths: pretend MotivatedByGoal playing related to arena used for competition\n",
            "\n",
            "Path8:\n",
            "attention weight: 3.0901599501476085e-08\n",
            "paths: pretend Synonym make related to compose manner of calm\n",
            "\n",
            "Path9:\n",
            "attention weight: 2.9900231623969376e-08\n",
            "paths: pretend has prerequisite lie Antonym tell related to order\n",
            "\n",
            "Path10:\n",
            "attention weight: 2.476014060448506e-08\n",
            "paths: pretend has first subevent act Synonym reality related to idealism\n",
            "\n",
            "Path11:\n",
            "attention weight: 2.1926311433162482e-08\n",
            "paths: pretend has first subevent act related to skill used for safety\n",
            "\n",
            "Path12:\n",
            "attention weight: 2.3951360339502514e-10\n",
            "paths: ugly related to morality related to social\n",
            "\n",
            "Path13:\n",
            "attention weight: 2.3428411988213327e-10\n",
            "paths: ugly related to unattractive related to power\n",
            "\n",
            "Path14:\n",
            "attention weight: 2.1371153458016323e-10\n",
            "paths: ugly related to morality related to distinction related to honor\n",
            "\n",
            "Path15:\n",
            "attention weight: 8.404672791062495e-11\n",
            "paths: ugly Synonym immoral related to purity Synonym honor\n",
            "\n",
            "Path16:\n",
            "attention weight: 7.179654548834791e-13\n",
            "paths: independent DistinctFrom republican similar to green\n",
            "\n",
            "Path17:\n",
            "attention weight: 1.4344826867150606e-13\n",
            "paths: status related to position related to stand related to grove related to orange\n",
            "\n",
            "Path18:\n",
            "attention weight: 1.1679737309689547e-13\n",
            "paths: idealism related to idealist related to idea related to fresh related to green\n",
            "\n",
            "Path19:\n",
            "attention weight: 1.081178129338535e-13\n",
            "paths: calm Antonym anger Etymologicallyrelated to ugly\n",
            "\n",
            "Path20:\n",
            "attention weight: 1.0068696907044455e-13\n",
            "paths: order related to filter Synonym trickle Etymologicallyrelated to orange\n",
            "\n",
            "Path21:\n",
            "attention weight: 6.660537871022373e-14\n",
            "paths: approval similar to acclamation has context art Antonym ugly\n",
            "\n",
            "Path22:\n",
            "attention weight: 6.456144755091764e-14\n",
            "paths: rest related to people Desires pretend\n",
            "\n",
            "Path23:\n",
            "attention weight: 4.330120517790498e-14\n",
            "paths: clearly related to doubt related to question related to curiosity\n",
            "\n",
            "Path24:\n",
            "attention weight: 3.9431989168033435e-14\n",
            "paths: grateful similar to glad related to like is a approval\n",
            "\n",
            "Path25:\n",
            "attention weight: 2.410332709519656e-14\n",
            "paths: approval related to ok Antonym ill Synonym ugly\n",
            "\n",
            "Path26:\n",
            "attention weight: 2.0399924561013624e-14\n",
            "paths: competition PartOf sports at location park related to green\n",
            "\n",
            "Path27:\n",
            "attention weight: 1.2670637108969096e-14\n",
            "paths: grateful related to gratitude related to grace PartOf love\n",
            "\n",
            "Path28:\n",
            "attention weight: 1.261476427466936e-14\n",
            "paths: grateful related to pleasing related to cheer is a approval\n",
            "\n",
            "Path29:\n",
            "attention weight: 5.601100654925627e-15\n",
            "paths: competition related to game has context tennis related to green\n",
            "\n",
            "Path30:\n",
            "attention weight: 2.179401797241685e-15\n",
            "paths: honor manner of recognize related to distinguish related to clearly\n",
            "\n",
            "Path31:\n",
            "attention weight: 5.879333508044128e-16\n",
            "paths: health related to quality related to pretentious related to pretend\n",
            "\n",
            "Path32:\n",
            "attention weight: 3.1817937689726657e-16\n",
            "paths: honor related to honest related to fair related to clearly\n",
            "\n"
          ],
          "name": "stdout"
        }
      ]
    },
    {
      "cell_type": "code",
      "metadata": {
        "id": "zxTIV0C8CYWS"
      },
      "source": [
        "from google.colab import drive\n",
        "drive.mount('/content/drive')"
      ],
      "execution_count": null,
      "outputs": []
    },
    {
      "cell_type": "code",
      "metadata": {
        "id": "P3vKZd8hfpbl"
      },
      "source": [
        ""
      ],
      "execution_count": null,
      "outputs": []
    }
  ]
}